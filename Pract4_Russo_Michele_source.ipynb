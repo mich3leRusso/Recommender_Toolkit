{
  "nbformat": 4,
  "nbformat_minor": 0,
  "metadata": {
    "colab": {
      "provenance": []
    },
    "kernelspec": {
      "name": "python3",
      "display_name": "Python 3"
    },
    "language_info": {
      "name": "python"
    }
  },
  "cells": [
    {
      "cell_type": "markdown",
      "source": [
        "#Author= Michele Russo"
      ],
      "metadata": {
        "id": "RSkBw_TldGqQ"
      }
    },
    {
      "cell_type": "code",
      "execution_count": null,
      "metadata": {
        "colab": {
          "base_uri": "https://localhost:8080/"
        },
        "id": "Mru1FVJuc43n",
        "outputId": "6b53b47a-86b9-4046-b431-23975fbba42e"
      },
      "outputs": [
        {
          "output_type": "stream",
          "name": "stdout",
          "text": [
            "Collecting maven\n",
            "  Downloading maven-0.0.6-py3-none-any.whl (20 kB)\n",
            "Requirement already satisfied: pandas in /usr/local/lib/python3.10/dist-packages (from maven) (2.0.3)\n",
            "Requirement already satisfied: pytest in /usr/local/lib/python3.10/dist-packages (from maven) (7.4.4)\n",
            "Requirement already satisfied: requests in /usr/local/lib/python3.10/dist-packages (from maven) (2.31.0)\n",
            "Requirement already satisfied: xlrd in /usr/local/lib/python3.10/dist-packages (from maven) (2.0.1)\n",
            "Requirement already satisfied: python-dateutil>=2.8.2 in /usr/local/lib/python3.10/dist-packages (from pandas->maven) (2.8.2)\n",
            "Requirement already satisfied: pytz>=2020.1 in /usr/local/lib/python3.10/dist-packages (from pandas->maven) (2023.4)\n",
            "Requirement already satisfied: tzdata>=2022.1 in /usr/local/lib/python3.10/dist-packages (from pandas->maven) (2024.1)\n",
            "Requirement already satisfied: numpy>=1.21.0 in /usr/local/lib/python3.10/dist-packages (from pandas->maven) (1.25.2)\n",
            "Requirement already satisfied: iniconfig in /usr/local/lib/python3.10/dist-packages (from pytest->maven) (2.0.0)\n",
            "Requirement already satisfied: packaging in /usr/local/lib/python3.10/dist-packages (from pytest->maven) (24.0)\n",
            "Requirement already satisfied: pluggy<2.0,>=0.12 in /usr/local/lib/python3.10/dist-packages (from pytest->maven) (1.4.0)\n",
            "Requirement already satisfied: exceptiongroup>=1.0.0rc8 in /usr/local/lib/python3.10/dist-packages (from pytest->maven) (1.2.0)\n",
            "Requirement already satisfied: tomli>=1.0.0 in /usr/local/lib/python3.10/dist-packages (from pytest->maven) (2.0.1)\n",
            "Requirement already satisfied: charset-normalizer<4,>=2 in /usr/local/lib/python3.10/dist-packages (from requests->maven) (3.3.2)\n",
            "Requirement already satisfied: idna<4,>=2.5 in /usr/local/lib/python3.10/dist-packages (from requests->maven) (3.7)\n",
            "Requirement already satisfied: urllib3<3,>=1.21.1 in /usr/local/lib/python3.10/dist-packages (from requests->maven) (2.0.7)\n",
            "Requirement already satisfied: certifi>=2017.4.17 in /usr/local/lib/python3.10/dist-packages (from requests->maven) (2024.2.2)\n",
            "Requirement already satisfied: six>=1.5 in /usr/local/lib/python3.10/dist-packages (from python-dateutil>=2.8.2->pandas->maven) (1.16.0)\n",
            "Installing collected packages: maven\n",
            "Successfully installed maven-0.0.6\n",
            "/bin/bash: line 1: mvn: command not found\n",
            "Collecting lenskit\n",
            "  Downloading lenskit-0.14.4-py3-none-any.whl (74 kB)\n",
            "\u001b[2K     \u001b[90m━━━━━━━━━━━━━━━━━━━━━━━━━━━━━━━━━━━━━━━━\u001b[0m \u001b[32m74.0/74.0 kB\u001b[0m \u001b[31m1.6 MB/s\u001b[0m eta \u001b[36m0:00:00\u001b[0m\n",
            "\u001b[?25hRequirement already satisfied: pandas>=1.0 in /usr/local/lib/python3.10/dist-packages (from lenskit) (2.0.3)\n",
            "Requirement already satisfied: numpy>=1.17 in /usr/local/lib/python3.10/dist-packages (from lenskit) (1.25.2)\n",
            "Requirement already satisfied: scipy>=1.2 in /usr/local/lib/python3.10/dist-packages (from lenskit) (1.11.4)\n",
            "Requirement already satisfied: numba<0.59,>=0.51 in /usr/local/lib/python3.10/dist-packages (from lenskit) (0.58.1)\n",
            "Requirement already satisfied: cffi>=1.12.2 in /usr/local/lib/python3.10/dist-packages (from lenskit) (1.16.0)\n",
            "Requirement already satisfied: psutil>=5 in /usr/local/lib/python3.10/dist-packages (from lenskit) (5.9.5)\n",
            "Collecting binpickle>=0.3.2 (from lenskit)\n",
            "  Downloading binpickle-0.3.4-py3-none-any.whl (13 kB)\n",
            "Collecting seedbank>=0.1.0 (from lenskit)\n",
            "  Downloading seedbank-0.1.3-py3-none-any.whl (8.5 kB)\n",
            "Collecting csr>=0.3.1 (from lenskit)\n",
            "  Downloading csr-0.5.1-py3-none-any.whl (25 kB)\n",
            "Requirement already satisfied: msgpack>=1.0 in /usr/local/lib/python3.10/dist-packages (from binpickle>=0.3.2->lenskit) (1.0.8)\n",
            "Requirement already satisfied: pycparser in /usr/local/lib/python3.10/dist-packages (from cffi>=1.12.2->lenskit) (2.22)\n",
            "Requirement already satisfied: llvmlite<0.42,>=0.41.0dev0 in /usr/local/lib/python3.10/dist-packages (from numba<0.59,>=0.51->lenskit) (0.41.1)\n",
            "Requirement already satisfied: python-dateutil>=2.8.2 in /usr/local/lib/python3.10/dist-packages (from pandas>=1.0->lenskit) (2.8.2)\n",
            "Requirement already satisfied: pytz>=2020.1 in /usr/local/lib/python3.10/dist-packages (from pandas>=1.0->lenskit) (2023.4)\n",
            "Requirement already satisfied: tzdata>=2022.1 in /usr/local/lib/python3.10/dist-packages (from pandas>=1.0->lenskit) (2024.1)\n",
            "Collecting anyconfig==0.13.* (from seedbank>=0.1.0->lenskit)\n",
            "  Downloading anyconfig-0.13.0-py2.py3-none-any.whl (87 kB)\n",
            "\u001b[2K     \u001b[90m━━━━━━━━━━━━━━━━━━━━━━━━━━━━━━━━━━━━━━━━\u001b[0m \u001b[32m87.8/87.8 kB\u001b[0m \u001b[31m5.9 MB/s\u001b[0m eta \u001b[36m0:00:00\u001b[0m\n",
            "\u001b[?25hRequirement already satisfied: setuptools in /usr/local/lib/python3.10/dist-packages (from anyconfig==0.13.*->seedbank>=0.1.0->lenskit) (67.7.2)\n",
            "Requirement already satisfied: six>=1.5 in /usr/local/lib/python3.10/dist-packages (from python-dateutil>=2.8.2->pandas>=1.0->lenskit) (1.16.0)\n",
            "Installing collected packages: binpickle, anyconfig, seedbank, csr, lenskit\n",
            "Successfully installed anyconfig-0.13.0 binpickle-0.3.4 csr-0.5.1 lenskit-0.14.4 seedbank-0.1.3\n"
          ]
        }
      ],
      "source": [
        "!apt-get install openjdk-8-jdk-headless -qq > /dev/null\n",
        "!pip install maven\n",
        "!mvn install -DskipTests\n",
        "!pip install lenskit"
      ]
    },
    {
      "cell_type": "code",
      "source": [
        "import pandas as pd\n",
        "from lenskit.algorithms import basic, item_knn, user_knn, als, funksvd\n",
        "import numpy as np\n",
        "import matplotlib.pyplot as plt\n",
        "from lenskit import batch, topn, util\n",
        "from lenskit.crossfold import partition_users\n",
        "from lenskit.metrics.topn import ndcg\n",
        "from lenskit import crossfold as xf\n",
        "from lenskit import batch, topn, util\n",
        "from lenskit import crossfold as xf\n",
        "from lenskit.algorithms import Recommender, als, item_knn as knn\n",
        "from lenskit import topn\n",
        "from lenskit import Predictor"
      ],
      "metadata": {
        "id": "ip9mvDHBgFIA"
      },
      "execution_count": null,
      "outputs": []
    },
    {
      "cell_type": "markdown",
      "source": [
        "#Programming Task"
      ],
      "metadata": {
        "id": "hPDet_2ufmYX"
      }
    },
    {
      "cell_type": "code",
      "source": [
        "#Load datasets\n",
        "\n",
        "def load_data(file_path,columns):\n",
        "    # Load the data into a DataFrame\n",
        "    ratings_df = pd.read_csv(file_path, sep='\\t', names=columns,encoding='ISO-8859-1')\n",
        "\n",
        "    return ratings_df\n"
      ],
      "metadata": {
        "id": "3cwZkKbPfqcF"
      },
      "execution_count": null,
      "outputs": []
    },
    {
      "cell_type": "markdown",
      "source": [
        "##4.1 Algorithms"
      ],
      "metadata": {
        "id": "xytTT8xJk_5x"
      }
    },
    {
      "cell_type": "code",
      "source": [
        "# Given the algorithm name, this function returns the corresponding LensKit algorithm object.\n",
        "#it uses Fallback in case the algorithm is not able to make a prediction for that given algorithm\n",
        "#the fallback calls the algorithm basic.Bias\n",
        "\n",
        "def lenskit_algorithm(algo_name):\n",
        "\n",
        "    # Initialize algo variable to None\n",
        "    algo = None\n",
        "\n",
        "    # Check the algorithm name and assign the corresponding LensKit algorithm object to algo\n",
        "    if algo_name == 'bias':\n",
        "        algo = basic.Fallback(basic.Bias(damping=5), basic.Bias())\n",
        "    elif algo_name == 'item_knn':\n",
        "        algo = basic.Fallback(item_knn.ItemItem(nnbrs=20), basic.Bias())\n",
        "    elif algo_name == 'user_knn':\n",
        "        algo = basic.Fallback(user_knn.UserUser(nnbrs=20), basic.Bias())\n",
        "    elif algo_name == 'biased_mf':\n",
        "        algo = basic.Fallback(als.BiasedMF(features=50), basic.Bias())\n",
        "    elif algo_name == 'implicit_mf':\n",
        "        algo = basic.Fallback(als.ImplicitMF(features=50), basic.Bias())\n",
        "    elif algo_name == 'funk_svd':\n",
        "        algo = basic.Fallback(funksvd.FunkSVD(features=50), basic.Bias())\n",
        "    else:\n",
        "        # Raise ValueError if the algorithm name is invalid\n",
        "        raise ValueError(\"Invalid algorithm name. Supported options: 'bias', 'item_knn', 'user_knn', 'biased_mf', 'implicit_mf', 'funk_svd'.\")\n",
        "\n",
        "    # Return the algo object\n",
        "    return algo\n"
      ],
      "metadata": {
        "id": "3NCpEAq9h1Ok"
      },
      "execution_count": null,
      "outputs": []
    },
    {
      "cell_type": "markdown",
      "source": [
        "##4.2"
      ],
      "metadata": {
        "id": "mtqqrWZDmXUS"
      }
    },
    {
      "cell_type": "code",
      "source": [
        "# The `eval` function evaluates the performance of a recommender algorithm.\n",
        "# It trains the algorithm on the training data, generates recommendations for test users,\n",
        "#It then the recommendations with appended algorithm names.\n",
        "\n",
        "def eval(aname, algo, train, test):\n",
        "    # Clone the algorithm to ensure it doesn't modify the original\n",
        "    fittable = util.clone(algo)\n",
        "    # Adapt the algorithm to make it fittable\n",
        "    fittable = Recommender.adapt(fittable)\n",
        "    # Fit the algorithm on the training data\n",
        "    fittable.fit(train)\n",
        "    # Get unique users from the test data\n",
        "    users = test.user.unique()\n",
        "    # Generate recommendations for the test users\n",
        "    recs = batch.recommend(fittable, users, 100)\n",
        "    # Add the algorithm name for analyzability\n",
        "    recs['Algorithm'] = aname\n",
        "    return recs\n",
        "\n",
        "# The `evaluate_algorithm` function evaluates a list of algorithms on a ratings dataset.\n",
        "# It computes NDCG scores for each algorithm and plots the average NDCG scores.\n",
        "\n",
        "def evaluate_algorithm(algorithms, ratings_df):\n",
        "\n",
        "    # Initialize lists to store NDCG scores and recommendations\n",
        "    ndcg_scores = []\n",
        "    all_recs = []\n",
        "    test_data = []\n",
        "\n",
        "    # Drop the timestamp column from the ratings dataframe\n",
        "    ratings_df = ratings_df.drop(axis=\"columns\", columns=\"timestamp\")\n",
        "\n",
        "    # Partition the users into training and test sets\n",
        "    for train, test in xf.partition_users(ratings_df[[\"user\", \"item\", \"rating\"]], 5, xf.SampleFrac(0.2)):\n",
        "        # Append the test data to the list\n",
        "        test_data.append(test)\n",
        "\n",
        "        # Iterate over each algorithm\n",
        "        for algorithm in algorithms:\n",
        "            # Get the LensKit algorithm object\n",
        "            algo = lenskit_algorithm(algorithm)\n",
        "            # Evaluate the algorithm and append the recommendations\n",
        "            all_recs.append(eval(algorithm, algo, train, test))\n",
        "\n",
        "    # Concatenate all recommendations and test data into single dataframes\n",
        "    all_recs = pd.concat(all_recs, ignore_index=True)\n",
        "    test_data = pd.concat(test_data, ignore_index=True)\n",
        "\n",
        "    # Compute NDCG scores using RecListAnalysis\n",
        "    rla = topn.RecListAnalysis()\n",
        "    rla.add_metric(topn.ndcg)\n",
        "    results = rla.compute(all_recs, test_data)\n",
        "\n",
        "    # Display the average NDCG scores for each algorithm\n",
        "    results.groupby('Algorithm').ndcg.mean()\n",
        "    # Plot the average NDCG scores\n",
        "    results.groupby('Algorithm').ndcg.mean().plot.bar()\n"
      ],
      "metadata": {
        "id": "xlVDZBmsmYjT"
      },
      "execution_count": null,
      "outputs": []
    },
    {
      "cell_type": "markdown",
      "source": [
        "##4.3"
      ],
      "metadata": {
        "id": "FAyKSmdPmaVI"
      }
    },
    {
      "cell_type": "code",
      "source": [
        "# The `predict_rating` function predicts the rating score for a specific user-item pair using the specified algorithm.\n",
        "# It trains the algorithm on the ratings data, extracts ratings given by the specified user,\n",
        "# and then uses the trained algorithm to predict the rating for the item.\n",
        "\n",
        "def predict_rating(user_id, item_id, ratings_df, algorithm):\n",
        "\n",
        "    # Train the specified algorithm\n",
        "    algorithm.fit(ratings_df)\n",
        "\n",
        "    # Extract ratings given by the specified user\n",
        "    ratings_user = ratings_df[ratings_df[\"user\"] == user_id]\n",
        "    user_series = ratings_user.set_index('item')['rating']\n",
        "\n",
        "    # Use the trained algorithm to predict the rating score for the specific user-item pair\n",
        "    rating_prediction = algorithm.predict_for_user(user_id, [item_id], user_series)\n",
        "\n",
        "    return rating_prediction\n"
      ],
      "metadata": {
        "id": "crnBTYXjs1ZP"
      },
      "execution_count": null,
      "outputs": []
    },
    {
      "cell_type": "markdown",
      "source": [
        "#Test"
      ],
      "metadata": {
        "id": "bitL0o5igIgY"
      }
    },
    {
      "cell_type": "code",
      "source": [
        "#Load dataset\n",
        "\n",
        "#define the columns\n",
        "ratings_columns= ['user', 'item', 'rating', 'timestamp']\n",
        "#load the dataset of ratings\n",
        "ratings_matrix=load_data(\"u.data\",ratings_columns)\n",
        "\n",
        "#define the columns\n",
        "movie_columns = ['movie_id']\n",
        "movie_matrix=load_data(\"u.item\",movie_columns)\n"
      ],
      "metadata": {
        "id": "xDXLpoQRgJud"
      },
      "execution_count": null,
      "outputs": []
    },
    {
      "cell_type": "code",
      "source": [
        "#define the algorithms to be evaluated\n",
        "algorithms=['bias','item_knn','user_knn','biased_mf','implicit_mf','funk_svd']\n",
        "#plot the ndcg scores\n",
        "ndcg_scores=evaluate_algorithm(algorithms, ratings_matrix)\n"
      ],
      "metadata": {
        "colab": {
          "base_uri": "https://localhost:8080/",
          "height": 514
        },
        "id": "j586aMIKl9kG",
        "outputId": "7c55f97f-95cf-4918-8aa2-18d18e70bfc5"
      },
      "execution_count": null,
      "outputs": [
        {
          "output_type": "display_data",
          "data": {
            "text/plain": [
              "<Figure size 640x480 with 1 Axes>"
            ],
            "image/png": "[encoded data removed]"
          },
          "metadata": {}
        }
      ]
    },
    {
      "cell_type": "code",
      "source": [
        "#predict the rating for user 196 for item 302, looking at every algorithm\n",
        "user_id = 196\n",
        "item_id = 302\n",
        "algo_predictions=[]\n",
        "for algorithm in algorithms:\n",
        "  #create the algorithm\n",
        "  algo=lenskit_algorithm(algorithm)\n",
        "  #create the ratings\n",
        "  predicted_rating = predict_rating(user_id, item_id, ratings_matrix,algo)\n",
        "  algo_predictions.append((algorithm,predicted_rating))\n",
        "print(algo_predictions)"
      ],
      "metadata": {
        "colab": {
          "base_uri": "https://localhost:8080/"
        },
        "id": "spvtdBcG_k1e",
        "outputId": "c62b7b3d-14fc-48a9-d1a2-0416c6dceaed"
      },
      "execution_count": null,
      "outputs": [
        {
          "output_type": "stream",
          "name": "stdout",
          "text": [
            "[('bias', 302    4.164038\n",
            "dtype: float64), ('item_knn', 302    3.804149\n",
            "dtype: float64), ('user_knn', item\n",
            "302    4.055305\n",
            "Name: prediction, dtype: float64), ('biased_mf', 302    3.834569\n",
            "dtype: float64), ('implicit_mf', 302    0.86009\n",
            "dtype: float64), ('funk_svd', 302    4.189801\n",
            "dtype: float64)]\n"
          ]
        }
      ]
    },
    {
      "cell_type": "code",
      "source": [
        "#run the algorithms three times and store the results\n",
        "algo_predictions_new=[]\n",
        "for i in range(3):\n",
        "  for algorithm in algorithms:\n",
        "    #create the algorithm\n",
        "    algo=lenskit_algorithm(algorithm)\n",
        "    #create the ratings\n",
        "    predicted_rating = predict_rating(user_id, item_id, ratings_matrix,algo)\n",
        "    algo_predictions_new.append((algorithm,predicted_rating,i))\n",
        "print(algo_predictions_new)"
      ],
      "metadata": {
        "colab": {
          "base_uri": "https://localhost:8080/"
        },
        "id": "9ykA_jlhEa0g",
        "outputId": "57bcabf7-5ea1-48e5-8c18-3dcf823a5a09"
      },
      "execution_count": null,
      "outputs": [
        {
          "output_type": "stream",
          "name": "stdout",
          "text": [
            "[('bias', 302    4.164038\n",
            "dtype: float64, 0), ('item_knn', 302    3.804149\n",
            "dtype: float64, 0), ('user_knn', item\n",
            "302    4.055305\n",
            "Name: prediction, dtype: float64, 0), ('biased_mf', 302    3.780809\n",
            "dtype: float64, 0), ('implicit_mf', 302    0.802879\n",
            "dtype: float64, 0), ('funk_svd', 302    4.189379\n",
            "dtype: float64, 0), ('bias', 302    4.164038\n",
            "dtype: float64, 1), ('item_knn', 302    3.804149\n",
            "dtype: float64, 1), ('user_knn', item\n",
            "302    4.055305\n",
            "Name: prediction, dtype: float64, 1), ('biased_mf', 302    3.83374\n",
            "dtype: float64, 1), ('implicit_mf', 302    0.908065\n",
            "dtype: float64, 1), ('funk_svd', 302    4.190119\n",
            "dtype: float64, 1), ('bias', 302    4.164038\n",
            "dtype: float64, 2), ('item_knn', 302    3.804149\n",
            "dtype: float64, 2), ('user_knn', item\n",
            "302    4.055305\n",
            "Name: prediction, dtype: float64, 2), ('biased_mf', 302    3.869048\n",
            "dtype: float64, 2), ('implicit_mf', 302    0.847701\n",
            "dtype: float64, 2), ('funk_svd', 302    4.191732\n",
            "dtype: float64, 2)]\n"
          ]
        }
      ]
    },
    {
      "cell_type": "code",
      "source": [
        "#see the error give by basic.Random\n",
        "algorithm_error=basic.Random()\n",
        "predicted_rating = predict_rating(user_id, item_id, ratings_matrix,algorithm_error)"
      ],
      "metadata": {
        "colab": {
          "base_uri": "https://localhost:8080/",
          "height": 297
        },
        "id": "RWEC97uBR2vx",
        "outputId": "db45dd24-70de-4ecf-f527-e302f1700631"
      },
      "execution_count": null,
      "outputs": [
        {
          "output_type": "error",
          "ename": "AttributeError",
          "evalue": "'Random' object has no attribute 'predict_for_user'",
          "traceback": [
            "\u001b[0;31m---------------------------------------------------------------------------\u001b[0m",
            "\u001b[0;31mAttributeError\u001b[0m                            Traceback (most recent call last)",
            "\u001b[0;32m<ipython-input-27-e21948bf62c4>\u001b[0m in \u001b[0;36m<cell line: 3>\u001b[0;34m()\u001b[0m\n\u001b[1;32m      1\u001b[0m \u001b[0;31m#see the error give by basic.Random\u001b[0m\u001b[0;34m\u001b[0m\u001b[0;34m\u001b[0m\u001b[0m\n\u001b[1;32m      2\u001b[0m \u001b[0malgorithm_error\u001b[0m\u001b[0;34m=\u001b[0m\u001b[0mbasic\u001b[0m\u001b[0;34m.\u001b[0m\u001b[0mRandom\u001b[0m\u001b[0;34m(\u001b[0m\u001b[0;34m)\u001b[0m\u001b[0;34m\u001b[0m\u001b[0;34m\u001b[0m\u001b[0m\n\u001b[0;32m----> 3\u001b[0;31m \u001b[0mpredicted_rating\u001b[0m \u001b[0;34m=\u001b[0m \u001b[0mpredict_rating\u001b[0m\u001b[0;34m(\u001b[0m\u001b[0muser_id\u001b[0m\u001b[0;34m,\u001b[0m \u001b[0mitem_id\u001b[0m\u001b[0;34m,\u001b[0m \u001b[0mratings_matrix\u001b[0m\u001b[0;34m,\u001b[0m\u001b[0malgorithm_error\u001b[0m\u001b[0;34m)\u001b[0m\u001b[0;34m\u001b[0m\u001b[0;34m\u001b[0m\u001b[0m\n\u001b[0m",
            "\u001b[0;32m<ipython-input-22-d3e5ec9ade3c>\u001b[0m in \u001b[0;36mpredict_rating\u001b[0;34m(user_id, item_id, ratings_df, algorithm)\u001b[0m\n\u001b[1;32m      6\u001b[0m     \u001b[0muser_series\u001b[0m \u001b[0;34m=\u001b[0m \u001b[0mratings_user\u001b[0m\u001b[0;34m.\u001b[0m\u001b[0mset_index\u001b[0m\u001b[0;34m(\u001b[0m\u001b[0;34m'item'\u001b[0m\u001b[0;34m)\u001b[0m\u001b[0;34m[\u001b[0m\u001b[0;34m'rating'\u001b[0m\u001b[0;34m]\u001b[0m\u001b[0;34m\u001b[0m\u001b[0;34m\u001b[0m\u001b[0m\n\u001b[1;32m      7\u001b[0m     \u001b[0;31m# Use the trained algorithm to predict the rating score for the specific user-item pair\u001b[0m\u001b[0;34m\u001b[0m\u001b[0;34m\u001b[0m\u001b[0m\n\u001b[0;32m----> 8\u001b[0;31m     \u001b[0mrating_prediction\u001b[0m \u001b[0;34m=\u001b[0m \u001b[0malgorithm\u001b[0m\u001b[0;34m.\u001b[0m\u001b[0mpredict_for_user\u001b[0m\u001b[0;34m(\u001b[0m\u001b[0muser_id\u001b[0m\u001b[0;34m,\u001b[0m \u001b[0;34m[\u001b[0m\u001b[0mitem_id\u001b[0m\u001b[0;34m]\u001b[0m\u001b[0;34m,\u001b[0m\u001b[0muser_series\u001b[0m\u001b[0;34m)\u001b[0m\u001b[0;34m\u001b[0m\u001b[0;34m\u001b[0m\u001b[0m\n\u001b[0m\u001b[1;32m      9\u001b[0m \u001b[0;34m\u001b[0m\u001b[0m\n\u001b[1;32m     10\u001b[0m     \u001b[0;32mreturn\u001b[0m \u001b[0mrating_prediction\u001b[0m\u001b[0;34m\u001b[0m\u001b[0;34m\u001b[0m\u001b[0m\n",
            "\u001b[0;31mAttributeError\u001b[0m: 'Random' object has no attribute 'predict_for_user'"
          ]
        }
      ]
    }
  ]
}